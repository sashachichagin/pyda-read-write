{
 "cells": [
  {
   "cell_type": "markdown",
   "metadata": {},
   "source": [
    "# Домашнее задание\n",
    "1. Переведите содержимое файла purchase_log.txt в словарь purchases вида:\n",
    "```python\n",
    "{'1840e0b9d4': 'Продукты', ...}\n",
    "```\n",
    "\n",
    "2. Для каждого user_id в файле visit_log.csv добавьте третий столбец с категорией покупки (если покупка была).\n",
    "\n",
    "3. Запишите в файл funnel.csv визиты из файла visit_log.csv, в которых были покупки с указанием категории.\n",
    "\n",
    "Учтите условия на данные:\n",
    "- содержимое purchase_log.txt помещается в оперативную память компьютера\n",
    "- содержимое visit_log.csv - нет; используйте только построчную обработку этого файла"
   ]
  },
  {
   "cell_type": "code",
   "execution_count": 1,
   "metadata": {},
   "outputs": [],
   "source": [
    "# 1. Переведите содержимое файла purchase_log.txt в словарь purchases вида:\n",
    "# {'1840e0b9d4': 'Продукты', ...}\n",
    "\n",
    "import json\n",
    "purchases={}\n",
    "\n",
    "with open('purchase_log.txt',encoding='utf-8') as f:\n",
    "    next(f)\n",
    "    for line in f:\n",
    "        line = line.strip()\n",
    "        dict_ = json.loads(line)\n",
    "        \n",
    "        if dict_['user_id'] not in purchases:\n",
    "            purchases[dict_['user_id']] = dict_['category']\n",
    "        else:\n",
    "            purchases[dict_['user_id']] = purchases[dict_['user_id']] + '&' + dict_['category']\n",
    "            \n",
    "# purchases\n",
    "\n",
    "# Если user_id встречается несколько раз в файле purchase_log.txt, \n",
    "# т.е. есть несколько категорий, то эти категории в значениях словаря purchases перечисляются через &"
   ]
  },
  {
   "cell_type": "code",
   "execution_count": 2,
   "metadata": {},
   "outputs": [],
   "source": [
    "# 2. Для каждого user_id в файле visit_log.csv добавьте третий столбец с категорией покупки (если покупка была).\n",
    "\n",
    "with open('visit_log.csv' ,'r', encoding='utf-8') as f_v, open('visit_log_new.csv' ,'w', encoding='utf-8') as f_v_n:\n",
    "    \n",
    "    for line in f_v:\n",
    "        user_visit = line.strip().split(',')\n",
    "        \n",
    "        if purchases.get(user_visit[0]) != None:\n",
    "            f_v_n.write(line.strip() + ',' + purchases[user_visit[0]] + '\\n')\n",
    "        else:\n",
    "            f_v_n.write(line)\n",
    "            \n",
    "# Я создал новый файл visit_log_new.csv и в него уже добавлял данные"
   ]
  },
  {
   "cell_type": "code",
   "execution_count": 3,
   "metadata": {},
   "outputs": [],
   "source": [
    "# 3.Запишите в файл funnel.csv визиты из файла visit_log.csv, в которых были покупки с указанием категории.\n",
    "\n",
    "with open('visit_log_new.csv' ,'r', encoding='utf-8') as f_v_n, open('funnel.csv' ,'w', encoding='utf-8') as funnel:\n",
    "    \n",
    "    for line in f_v_n:\n",
    "        user_visit = line.strip().split(',')\n",
    "        \n",
    "        if len(user_visit) > 2:\n",
    "            if user_visit[2] != 'не определена':\n",
    "                line = line.replace('не определена&', '') # Данная замена связана с тем что могут быть несколько категорий, одна из которых \"не определена\", здесь она просто убирается из строки\n",
    "                line = line.replace('&не определена', '') # Теоретически категория \"не определена\" может стоять последней\n",
    "                funnel.write(line)              \n"
   ]
  },
  {
   "cell_type": "code",
   "execution_count": 4,
   "metadata": {},
   "outputs": [
    {
     "name": "stdout",
     "output_type": "stream",
     "text": [
      "{'Продукты': 14010, 'Электроника': 33466, 'Бытовая техника': 23670, 'Досуг': 11783, 'Товары для животных': 7028, 'Строительство и ремонт': 9009, 'не определена': 1033}\n"
     ]
    }
   ],
   "source": [
    "# Вспомогательный запрос для определения какие есть категории\n",
    "\n",
    "category_list = []\n",
    "count_category=[]\n",
    "\n",
    "with open('purchase_log.txt',encoding='utf-8') as f:\n",
    "    next(f)\n",
    "    i = 0\n",
    "    import json\n",
    "    for line in f:\n",
    "        line = line.strip()\n",
    "\n",
    "        dict_ = json.loads(line)\n",
    "        if dict_['category'] not in category_list:\n",
    "            category_list.append(dict_['category'])\n",
    "            \n",
    "    for i in range(len(category_list)):\n",
    "        count_category.append(0)    \n",
    "        \n",
    "    category_count_list = dict(zip(category_list,count_category))\n",
    "    \n",
    "    f.seek(0)\n",
    "    next(f)\n",
    "    i = 0\n",
    "    for line in f:\n",
    "        line = line.strip()\n",
    "        dict_ = json.loads(line)\n",
    "        \n",
    "        for cat, count_cat  in category_count_list.items():\n",
    "            if dict_['category'] == cat:\n",
    "                category_count_list[cat] += 1   \n",
    "                        \n",
    "print(category_count_list) "
   ]
  }
 ],
 "metadata": {
  "kernelspec": {
   "display_name": "Python 3",
   "language": "python",
   "name": "python3"
  },
  "language_info": {
   "codemirror_mode": {
    "name": "ipython",
    "version": 3
   },
   "file_extension": ".py",
   "mimetype": "text/x-python",
   "name": "python",
   "nbconvert_exporter": "python",
   "pygments_lexer": "ipython3",
   "version": "3.7.4"
  }
 },
 "nbformat": 4,
 "nbformat_minor": 2
}
